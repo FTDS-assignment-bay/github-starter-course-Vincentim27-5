{
 "cells": [
  {
   "cell_type": "markdown",
   "metadata": {},
   "source": [
    "# Cara nge push assignment:"
   ]
  },
  {
   "cell_type": "markdown",
   "metadata": {},
   "source": [
    "1. `git clone <link ssh key>` -> perintah untuk mengcloning/download repo assignment\n",
    "2. `cd <path repo lokal>` -> untuk mengubah directory ke repo lokal\n",
    "3. Pindahkan files apa saja yg akan di push/upload atau buat file nya langsung di dalam repo lokal</br>\n",
    "~ jika sudah pernah push dan ada updates ulangi dari step no 4 ya, jgn dari clone lagi (step1)~\n",
    "4. `git status` -> untuk cek file apa saja yg akan di push (harusnya semua files berwarna merah)\n",
    "5. `git add .`-> untuk masukan files tsb (no 4) ke stage mode, dan symbol titik(.) artinya semua file dimasukan ke stage mode. Kalo mau file tertentu pakai `git add <nama file>` contoh: `git add skripsi_final.docs`\n",
    "6. `git status` -> untuk make sure files tsb sudah di stage mode dan siap di push (harusnya berwarna hijau)\n",
    "7. `git commit -m \"<message nya apa???>\"` -> ini utk dokumentasi version, jadi ganti sesuai dgn perubahan atau updatenya. Contoh: `git commit -m \"rev_2\"`, lalu semisal ada perubahan next nya akan sperti ini, `git commit -m \"rev_3\"`, dst.\n",
    "8. `git push` -> untuk push/upload ke repo github classroom.\n",
    "9. Make sure di repo classroom kalian file sudah terupdate dgn baik sesuai di repo lokal."
   ]
  },
  {
   "cell_type": "markdown",
   "metadata": {},
   "source": [
    "# Data penduduk Indonesia\n"
   ]
  },
  {
   "cell_type": "markdown",
   "metadata": {},
   "source": [
    "---"
   ]
  },
  {
   "cell_type": "markdown",
   "metadata": {},
   "source": [
    "## Data raw"
   ]
  },
  {
   "cell_type": "markdown",
   "metadata": {},
   "source": [
    "**bold**  \n",
    "*italic*  \n",
    "***bold_italic***  "
   ]
  },
  {
   "cell_type": "markdown",
   "metadata": {},
   "source": [
    "1. Nama:\n",
    "2. Tipe:  \n",
    "   a. assult  \n",
    "   b. medic  \n",
    "   c. engineer  \n",
    "3. Age:\n",
    "   - 20 s/d 30\n",
    "   - 30 s/d 40 \n",
    "\n"
   ]
  },
  {
   "cell_type": "code",
   "execution_count": 4,
   "metadata": {},
   "outputs": [
    {
     "name": "stdout",
     "output_type": "stream",
     "text": [
      "1+2\n",
      "3\n"
     ]
    }
   ],
   "source": [
    "print('1+2')\n",
    "print(1+2)"
   ]
  },
  {
   "cell_type": "markdown",
   "metadata": {},
   "source": [
    "1+2"
   ]
  }
 ],
 "metadata": {
  "kernelspec": {
   "display_name": "py39",
   "language": "python",
   "name": "python3"
  },
  "language_info": {
   "codemirror_mode": {
    "name": "ipython",
    "version": 3
   },
   "file_extension": ".py",
   "mimetype": "text/x-python",
   "name": "python",
   "nbconvert_exporter": "python",
   "pygments_lexer": "ipython3",
   "version": "3.9.23"
  }
 },
 "nbformat": 4,
 "nbformat_minor": 2
}
